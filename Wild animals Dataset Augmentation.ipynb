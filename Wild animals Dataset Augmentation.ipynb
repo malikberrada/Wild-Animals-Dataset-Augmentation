{
 "cells": [
  {
   "cell_type": "markdown",
   "metadata": {
    "colab_type": "text",
    "id": "view-in-github"
   },
   "source": [
    "<a href=\"https://colab.research.google.com/gist/keyurparalkar/5a49f696ed36ddce6526ab50e29e04ce/audio-data-augmentation-visualization-librosa-intgration-part-2.ipynb\" target=\"_parent\"><img src=\"https://colab.research.google.com/assets/colab-badge.svg\" alt=\"Open In Colab\"/></a>"
   ]
  },
  {
   "cell_type": "markdown",
   "metadata": {},
   "source": [
    "This notebook contains the Wild Animals Dataset Augmentation. We worked with the Librosa and Soundfile methods to add noise, shift, time stretch and pitch shift audio files. Then we've augmented the Data with these techniques."
   ]
  },
  {
   "cell_type": "markdown",
   "metadata": {},
   "source": [
    "## Importing libraries"
   ]
  },
  {
   "cell_type": "code",
   "execution_count": null,
   "metadata": {},
   "outputs": [],
   "source": [
    "from fastai import * \n",
    "from fastai.vision import *\n",
    "import os\n",
    "import librosa\n",
    "import IPython.display as ipd\n",
    "import math\n",
    "import secrets\n",
    "import glob\n",
    "import pandas as pd\n",
    "import numpy as np\n",
    "import soundfile as sf\n",
    "from matplotlib import pyplot as plt\n",
    "pd.set_option('max_rows', None)"
   ]
  },
  {
   "cell_type": "markdown",
   "metadata": {},
   "source": [
    "## Creating an ID generator for the dataset"
   ]
  },
  {
   "cell_type": "code",
   "execution_count": 25,
   "metadata": {},
   "outputs": [],
   "source": [
    "def random_alphanum(length: int) -> str:\n",
    "        text = secrets.token_hex(nbytes=math.ceil(length / 2))\n",
    "        isEven = length % 2 == 0\n",
    "        return text if isEven else text[1:]"
   ]
  },
  {
   "cell_type": "markdown",
   "metadata": {},
   "source": [
    "## Creating a training set"
   ]
  },
  {
   "cell_type": "code",
   "execution_count": 27,
   "metadata": {
    "colab": {
     "base_uri": "https://localhost:8080/",
     "height": 208
    },
    "colab_type": "code",
    "id": "F1wI6MOcjmAd",
    "outputId": "9e0f2162-0ba7-4dfc-8ef5-d555919d4939"
   },
   "outputs": [],
   "source": [
    "# assign directory\n",
    "directory = './dataset'\n",
    " \n",
    "# iterate over files in\n",
    "# that directory\n",
    "dataset_dict = {\n",
    "    'relative_path' : [],\n",
    "    'classID' : [],\n",
    "    'id_file' : []\n",
    "}\n",
    "sum1 = 0\n",
    "relative_path = []\n",
    "classID = []\n",
    "id_file = []\n",
    "for filename in glob.iglob(f'{directory}/*'):\n",
    "    for audio_name in glob.iglob(f'{filename}/*'):\n",
    "        audio_name = audio_name.replace(\"\\\\\", \"/\")\n",
    "        relative_path.append(audio_name)\n",
    "        classID.append(filename.split(\"\\\\\")[-1])\n",
    "\n",
    "cpt = 0\n",
    "for filename in glob.iglob(f'{directory}/*'):\n",
    "    for audio_name in glob.iglob(f'{filename}/*'):  \n",
    "        cpt += 1\n",
    "\n",
    "for i in range(cpt):\n",
    "    id_file.append(random_alphanum(6))\n",
    "dataset_dict['relative_path'] = relative_path\n",
    "dataset_dict['classID'] = classID\n",
    "dataset_dict['id_file'] = id_file\n",
    "\n",
    "df_dataset = pd.DataFrame(dataset_dict, columns = ['relative_path', 'classID', 'id_file'])"
   ]
  },
  {
   "cell_type": "markdown",
   "metadata": {},
   "source": [
    "## Creating a prediction set"
   ]
  },
  {
   "cell_type": "code",
   "execution_count": 28,
   "metadata": {
    "scrolled": true
   },
   "outputs": [
    {
     "name": "stdout",
     "output_type": "stream",
     "text": [
      "filename :  ./prediction set/bear/439441__asteroiderer__bear-mad.wav\n",
      "filename :  ./prediction set/crow/138344__unclesigmund__crow.wav\n",
      "filename :  ./prediction set/dolphin/456151__jfournier18__dolphin-noise.wav\n",
      "filename :  ./prediction set/eagle/104911__kabit__eagle.wav\n",
      "filename :  ./prediction set/elephant/139875__y89312__44.wav\n",
      "filename :  ./prediction set/falcon/467704__tallareta__halcon.wav\n",
      "filename :  ./prediction set/frog/67261__benboncan__frog-croaking.wav\n",
      "filename :  ./prediction set/hippo/194871__toadie__hippos-2.mp3\n",
      "filename :  ./prediction set/lion/69570__bidone__lion-loud.mp3\n",
      "filename :  ./prediction set/monkey/128473__darkozl__a-monkey.wav\n",
      "filename :  ./prediction set/owl/25945__inchadney__owl.wav\n",
      "filename :  ./prediction set/panther/black-panther-roaring-128-ytshorts.savetube.me.mp3\n",
      "filename :  ./prediction set/Penguin/463033__iamaviolin__penguin-calls-noises.wav\n",
      "filename :  ./prediction set/seal/179586__stormpetrel__a-weddell-seal-pup-laying-on-the-antarctic-ice-shelf-is-calling-his-mother.flac\n",
      "filename :  ./prediction set/snake/234269__moddingtr__snake-hss-effect.ogg\n",
      "filename :  ./prediction set/tiger/67357__bidone__tiger.mp3\n",
      "filename :  ./prediction set/whale/53266__stomachache__whale.wav\n",
      "filename :  ./prediction set/wolf/66258__viorelvio__sunetul-de-lup-27386.mp3\n"
     ]
    }
   ],
   "source": [
    "# assign directory\n",
    "directory = '.\\prediction set'\n",
    " \n",
    "# iterate over files in\n",
    "# that directory\n",
    "test_dict = {\n",
    "    'relative_path' : [],\n",
    "    'classID' : [],\n",
    "    'id_file' : []\n",
    "}\n",
    "sum1 = 0\n",
    "relative_path = []\n",
    "classID = []\n",
    "id_file = []\n",
    "for filename in glob.iglob(f'{directory}/*'):\n",
    "    for audio_name in glob.iglob(f'{filename}/*'):\n",
    "        audio_name = audio_name.replace(\"\\\\\", \"/\")\n",
    "        print(\"filename : \", audio_name)\n",
    "        relative_path.append(audio_name)\n",
    "        classID.append(filename.split(\"\\\\\")[-1])\n",
    "        \n",
    "cpt = 0\n",
    "for filename in glob.iglob(f'{directory}/*'):\n",
    "    for audio_name in glob.iglob(f'{filename}/*'):  \n",
    "        cpt += 1\n",
    "\n",
    "for i in range(cpt):\n",
    "    id_file.append(random_alphanum(6))\n",
    "    \n",
    "test_dict['relative_path'] = relative_path\n",
    "test_dict['classID'] = classID\n",
    "test_dict['id_file'] = id_file\n",
    "df_test = pd.DataFrame(test_dict, columns = ['relative_path', 'classID', 'id_file'])\n",
    "# print(\"Mean duration : \", sum1/len(list(glob.iglob(f'{directory}/*'))))"
   ]
  },
  {
   "cell_type": "code",
   "execution_count": 30,
   "metadata": {},
   "outputs": [],
   "source": [
    "df_test[\"relative_path\"] = df_test[\"relative_path\"].apply(lambda x: x.replace(\"./prediction set/\", \"./dataset/\"))"
   ]
  },
  {
   "cell_type": "markdown",
   "metadata": {},
   "source": [
    "## Counting number of samples per category"
   ]
  },
  {
   "cell_type": "code",
   "execution_count": 36,
   "metadata": {},
   "outputs": [],
   "source": [
    "df_value_counts = pd.DataFrame(df_dataset[\"classID\"].value_counts()).rename(columns={\"classID\":\"occurences\"}).reset_index().rename(columns={\"index\":\"classID\"})"
   ]
  },
  {
   "cell_type": "markdown",
   "metadata": {
    "colab_type": "text",
    "id": "feUdIY4tjwXS"
   },
   "source": [
    "## Defining the noise addition function"
   ]
  },
  {
   "cell_type": "code",
   "execution_count": 41,
   "metadata": {
    "colab": {
     "base_uri": "https://localhost:8080/",
     "height": 380
    },
    "colab_type": "code",
    "id": "N6V9uEeftqMU",
    "outputId": "18946d55-1c8c-4aac-aff4-08a725029ce4"
   },
   "outputs": [],
   "source": [
    "def noise_addition(file_path, cpt_al_sds_agm_all_fct_usd):\n",
    "    '''\n",
    "    Noise addition using normal distribution with mean = 0 and std =1\n",
    "\n",
    "    Permissible noise factor value = x > 0.004\n",
    "    '''\n",
    "    wav, sr = librosa.load(file_path,sr=None)\n",
    "    wav_n = wav + 0.009*np.random.normal(0,1,len(wav))\n",
    "    extension = os.path.splitext(file_path)[1]\n",
    "    file_path = file_path.replace(extension, \"\")\n",
    "    file_path = file_path + \"-noise_add-nb-\" + str(cpt_al_sds_agm_all_fct_usd) + extension\n",
    "    print(\"Adding noise to the file...\")\n",
    "    if (extension == \".mp3\") or (extension == \".m4a\") or (extension == \".flac\") or (extension == \".ogg\"):\n",
    "        file_path = file_path.replace(\"-noise_add-nb-\" + str(cpt_al_sds_agm_all_fct_usd) + extension, \"\")\n",
    "        file_path = file_path + \"-noise_add-nb-\" + str(cpt_al_sds_agm_all_fct_usd) + \".wav\"\n",
    "    sf.write(file_path, wav_n, 44100, 'PCM_24')"
   ]
  },
  {
   "cell_type": "markdown",
   "metadata": {},
   "source": [
    "## Defining the shifting function"
   ]
  },
  {
   "cell_type": "code",
   "execution_count": 42,
   "metadata": {
    "colab": {
     "base_uri": "https://localhost:8080/",
     "height": 336
    },
    "colab_type": "code",
    "id": "uR7P6JuAAG5H",
    "outputId": "cdb5d887-8944-4bb3-c4de-2a8d25e8e16c"
   },
   "outputs": [],
   "source": [
    "def shifting(file_path, cpt_al_sds_agm_all_fct_usd):\n",
    "    '''\n",
    "    Permissible factor values = sr/10\n",
    "    '''\n",
    "\n",
    "    wav, sr = librosa.load(file_path, sr=None)\n",
    "    wav_shift = np.roll(wav, int(sr / 10))\n",
    "    extension = os.path.splitext(file_path)[1]\n",
    "    file_path = file_path.replace(extension, \"\")\n",
    "    file_path = file_path + \"-shifting-nb-\" + str(cpt_al_sds_agm_all_fct_usd) + extension\n",
    "    print(\"Shifting the file...\")\n",
    "    if (extension == \".mp3\") or (extension == \".m4a\") or (extension == \".flac\") or (extension == \".ogg\"):\n",
    "        file_path = file_path.replace(\"-shifting-nb-\" + str(cpt_al_sds_agm_all_fct_usd) + extension, \"\")\n",
    "        file_path = file_path + \"-shifting-nb-\" + str(cpt_al_sds_agm_all_fct_usd) + \".wav\"\n",
    "    sf.write(file_path, wav_shift, 44100, 'PCM_24')"
   ]
  },
  {
   "cell_type": "markdown",
   "metadata": {},
   "source": [
    "## Defining the time stretching function"
   ]
  },
  {
   "cell_type": "code",
   "execution_count": 43,
   "metadata": {
    "colab": {
     "base_uri": "https://localhost:8080/",
     "height": 336
    },
    "colab_type": "code",
    "id": "VPjEbazsB0Ez",
    "outputId": "f4960d43-e97b-4220-d2ba-dd6528637f67"
   },
   "outputs": [],
   "source": [
    "#Time-stretching the wave\n",
    "def time_sttch(file_path, cpt_al_sds_agm_all_fct_usd):\n",
    "    '''\n",
    "    Permissible factor values = 0 < x < 1.0\n",
    "    '''\n",
    "    factor = 0.4\n",
    "    wav, sr = librosa.load(file_path,sr=None)\n",
    "    wav_t_sttch = librosa.effects.time_stretch(wav,factor)\n",
    "    extension = os.path.splitext(file_path)[1]\n",
    "    file_path = file_path.replace(extension, \"\")\n",
    "    file_path = file_path + \"-t-sttch-nb-\" + str(cpt_al_sds_agm_all_fct_usd) + extension\n",
    "    print(\"Time stretching the file...\")\n",
    "    if (extension == \".mp3\") or (extension == \".m4a\") or (extension == \".flac\") or (extension == \".ogg\"):\n",
    "        file_path = file_path.replace(\"-t-sttch-nb-\" + str(cpt_al_sds_agm_all_fct_usd) + extension, \"\")\n",
    "        file_path = file_path + \"-t-sttch-nb-\" + str(cpt_al_sds_agm_all_fct_usd) + \".wav\"\n",
    "    sf.write(file_path, wav_t_sttch, 44100, 'PCM_24')"
   ]
  },
  {
   "cell_type": "markdown",
   "metadata": {},
   "source": [
    "## Defining the pitch shifting function"
   ]
  },
  {
   "cell_type": "code",
   "execution_count": 44,
   "metadata": {
    "colab": {
     "base_uri": "https://localhost:8080/",
     "height": 371
    },
    "colab_type": "code",
    "id": "adSe6nYGGYt4",
    "outputId": "2f02862f-5efc-4110-82c4-1aeb5cec8edd"
   },
   "outputs": [],
   "source": [
    "#pitch shifting of wav\n",
    "def ptch_shft(file_path, cpt_al_sds_agm_all_fct_usd, step):\n",
    "    '''\n",
    "    Permissible factor values = -5 <= x <= 5\n",
    "    '''\n",
    "    wav, sr = librosa.load(file_path,sr=None)\n",
    "    wav_pitch_sf = librosa.effects.pitch_shift(wav,sr,n_steps=step)\n",
    "    extension = os.path.splitext(file_path)[1]\n",
    "    file_path = file_path.replace(extension, \"\")\n",
    "    file_path = file_path + \"-pitching-nb-\" + str(cpt_al_sds_agm_all_fct_usd) + \"-step-\" + str(step) + extension\n",
    "    print(\"Pitch shifting the file for step ,\", step, \"...\")\n",
    "    if (extension == \".mp3\") or (extension == \".m4a\") or (extension == \".flac\") or (extension == \".ogg\"):\n",
    "        file_path = file_path.replace(\"-pitching-nb-\" + str(cpt_al_sds_agm_all_fct_usd) + \"-step-\" + str(step) + extension, \"\")\n",
    "        file_path = file_path + \"-pitching-nb-\" + str(cpt_al_sds_agm_all_fct_usd) + \"-step-\" + str(step) + \".wav\"\n",
    "    sf.write(file_path, wav_pitch_sf, 44100, 'PCM_24')"
   ]
  },
  {
   "cell_type": "code",
   "execution_count": 45,
   "metadata": {},
   "outputs": [
    {
     "data": {
      "text/html": [
       "<div>\n",
       "<style scoped>\n",
       "    .dataframe tbody tr th:only-of-type {\n",
       "        vertical-align: middle;\n",
       "    }\n",
       "\n",
       "    .dataframe tbody tr th {\n",
       "        vertical-align: top;\n",
       "    }\n",
       "\n",
       "    .dataframe thead th {\n",
       "        text-align: right;\n",
       "    }\n",
       "</style>\n",
       "<table border=\"1\" class=\"dataframe\">\n",
       "  <thead>\n",
       "    <tr style=\"text-align: right;\">\n",
       "      <th></th>\n",
       "      <th>funct_name</th>\n",
       "      <th>funct</th>\n",
       "    </tr>\n",
       "  </thead>\n",
       "  <tbody>\n",
       "    <tr>\n",
       "      <th>0</th>\n",
       "      <td>noise_addition</td>\n",
       "      <td>&lt;function noise_addition at 0x0000017452AC35E0&gt;</td>\n",
       "    </tr>\n",
       "    <tr>\n",
       "      <th>1</th>\n",
       "      <td>shifting</td>\n",
       "      <td>&lt;function shifting at 0x0000017452ADCD30&gt;</td>\n",
       "    </tr>\n",
       "    <tr>\n",
       "      <th>2</th>\n",
       "      <td>time_sttch</td>\n",
       "      <td>&lt;function time_sttch at 0x0000017452ADCEE0&gt;</td>\n",
       "    </tr>\n",
       "    <tr>\n",
       "      <th>3</th>\n",
       "      <td>ptch_shft</td>\n",
       "      <td>&lt;function ptch_shft at 0x000001745325EE50&gt;</td>\n",
       "    </tr>\n",
       "  </tbody>\n",
       "</table>\n",
       "</div>"
      ],
      "text/plain": [
       "       funct_name                                            funct\n",
       "0  noise_addition  <function noise_addition at 0x0000017452AC35E0>\n",
       "1        shifting        <function shifting at 0x0000017452ADCD30>\n",
       "2      time_sttch      <function time_sttch at 0x0000017452ADCEE0>\n",
       "3       ptch_shft       <function ptch_shft at 0x000001745325EE50>"
      ]
     },
     "execution_count": 45,
     "metadata": {},
     "output_type": "execute_result"
    }
   ],
   "source": [
    "dict_augm_funct = {\n",
    "    \"funct_name\":[\"noise_addition\", \"shifting\", \"time_sttch\", \"ptch_shft\"],\n",
    "    \"funct\":[noise_addition, shifting, time_sttch, ptch_shft]\n",
    "}\n",
    "df_augm_funct = pd.DataFrame(dict_augm_funct)\n",
    "df_augm_funct"
   ]
  },
  {
   "cell_type": "markdown",
   "metadata": {},
   "source": [
    "## Augmenting the Dataset"
   ]
  },
  {
   "cell_type": "code",
   "execution_count": 46,
   "metadata": {
    "scrolled": true
   },
   "outputs": [
    {
     "name": "stdout",
     "output_type": "stream",
     "text": [
      "Processing category  bear ...\n",
      "Adding noise to the file...\n",
      "Adding noise to the file...\n",
      "Adding noise to the file...\n",
      "Shifting the file...\n",
      "Shifting the file...\n",
      "Shifting the file...\n",
      "Time stretching the file...\n"
     ]
    },
    {
     "name": "stderr",
     "output_type": "stream",
     "text": [
      "C:\\Users\\berra\\AppData\\Local\\Temp/ipykernel_23116/2331850149.py:8: FutureWarning: Pass rate=0.4 as keyword args. From version 0.10 passing these as positional arguments will result in an error\n",
      "  wav_t_sttch = librosa.effects.time_stretch(wav,factor)\n"
     ]
    },
    {
     "name": "stdout",
     "output_type": "stream",
     "text": [
      "Time stretching the file...\n",
      "Time stretching the file...\n",
      "Pitch shifting the file for step , -5 ...\n"
     ]
    },
    {
     "name": "stderr",
     "output_type": "stream",
     "text": [
      "C:\\Users\\berra\\AppData\\Local\\Temp/ipykernel_23116/1015842430.py:7: FutureWarning: Pass sr=44100 as keyword args. From version 0.10 passing these as positional arguments will result in an error\n",
      "  wav_pitch_sf = librosa.effects.pitch_shift(wav,sr,n_steps=step)\n"
     ]
    },
    {
     "name": "stdout",
     "output_type": "stream",
     "text": [
      "Pitch shifting the file for step , -5 ...\n"
     ]
    },
    {
     "name": "stderr",
     "output_type": "stream",
     "text": [
      "C:\\Users\\berra\\AppData\\Local\\Temp/ipykernel_23116/1015842430.py:7: FutureWarning: Pass sr=22050 as keyword args. From version 0.10 passing these as positional arguments will result in an error\n",
      "  wav_pitch_sf = librosa.effects.pitch_shift(wav,sr,n_steps=step)\n"
     ]
    },
    {
     "name": "stdout",
     "output_type": "stream",
     "text": [
      "Pitch shifting the file for step , -5 ...\n",
      "Pitch shifting the file for step , -4 ...\n",
      "Pitch shifting the file for step , -4 ...\n",
      "Pitch shifting the file for step , -4 ...\n",
      "Pitch shifting the file for step , -3 ...\n",
      "Pitch shifting the file for step , -3 ...\n",
      "Pitch shifting the file for step , -3 ...\n",
      "Pitch shifting the file for step , -2 ...\n",
      "Pitch shifting the file for step , -2 ...\n",
      "Pitch shifting the file for step , -2 ...\n",
      "Processing category  crow ...\n",
      "Adding noise to the file...\n",
      "Adding noise to the file...\n",
      "Adding noise to the file...\n",
      "Adding noise to the file...\n",
      "Adding noise to the file...\n",
      "Adding noise to the file...\n",
      "Adding noise to the file...\n",
      "Adding noise to the file...\n",
      "Adding noise to the file...\n",
      "Adding noise to the file...\n",
      "Shifting the file...\n",
      "Shifting the file...\n",
      "Shifting the file...\n",
      "Shifting the file...\n",
      "Processing category  dolphin ...\n",
      "Adding noise to the file...\n",
      "Adding noise to the file...\n",
      "Adding noise to the file...\n",
      "Shifting the file...\n"
     ]
    },
    {
     "name": "stderr",
     "output_type": "stream",
     "text": [
      "C:\\Users\\berra\\AppData\\Roaming\\Python\\Python39\\site-packages\\librosa\\util\\decorators.py:88: UserWarning: PySoundFile failed. Trying audioread instead.\n",
      "  return f(*args, **kwargs)\n"
     ]
    },
    {
     "name": "stdout",
     "output_type": "stream",
     "text": [
      "Shifting the file...\n",
      "Shifting the file...\n",
      "Time stretching the file...\n",
      "Time stretching the file...\n",
      "Time stretching the file...\n",
      "Pitch shifting the file for step , -5 ...\n"
     ]
    },
    {
     "name": "stderr",
     "output_type": "stream",
     "text": [
      "C:\\Users\\berra\\AppData\\Local\\Temp/ipykernel_23116/1015842430.py:7: FutureWarning: Pass sr=48000 as keyword args. From version 0.10 passing these as positional arguments will result in an error\n",
      "  wav_pitch_sf = librosa.effects.pitch_shift(wav,sr,n_steps=step)\n"
     ]
    },
    {
     "name": "stdout",
     "output_type": "stream",
     "text": [
      "Pitch shifting the file for step , -5 ...\n",
      "Pitch shifting the file for step , -5 ...\n",
      "Pitch shifting the file for step , -4 ...\n",
      "Pitch shifting the file for step , -4 ...\n",
      "Pitch shifting the file for step , -4 ...\n",
      "Pitch shifting the file for step , -3 ...\n",
      "Pitch shifting the file for step , -3 ...\n",
      "Pitch shifting the file for step , -3 ...\n",
      "Pitch shifting the file for step , -2 ...\n",
      "Pitch shifting the file for step , -2 ...\n",
      "Pitch shifting the file for step , -2 ...\n",
      "Processing category  eagle ...\n",
      "Adding noise to the file...\n",
      "Adding noise to the file...\n",
      "Adding noise to the file...\n",
      "Adding noise to the file...\n",
      "Adding noise to the file...\n",
      "Adding noise to the file...\n",
      "Adding noise to the file...\n",
      "Adding noise to the file...\n",
      "Adding noise to the file...\n",
      "Adding noise to the file...\n",
      "Adding noise to the file...\n",
      "Shifting the file...\n",
      "Shifting the file...\n",
      "Processing category  elephant ...\n",
      "Adding noise to the file...\n",
      "Adding noise to the file...\n",
      "Adding noise to the file...\n",
      "Shifting the file...\n",
      "Shifting the file...\n",
      "Shifting the file...\n",
      "Time stretching the file...\n",
      "Time stretching the file...\n",
      "Time stretching the file...\n",
      "Pitch shifting the file for step , -5 ...\n"
     ]
    },
    {
     "name": "stderr",
     "output_type": "stream",
     "text": [
      "C:\\Users\\berra\\AppData\\Local\\Temp/ipykernel_23116/1015842430.py:7: FutureWarning: Pass sr=16000 as keyword args. From version 0.10 passing these as positional arguments will result in an error\n",
      "  wav_pitch_sf = librosa.effects.pitch_shift(wav,sr,n_steps=step)\n"
     ]
    },
    {
     "name": "stdout",
     "output_type": "stream",
     "text": [
      "Pitch shifting the file for step , -5 ...\n",
      "Pitch shifting the file for step , -5 ...\n",
      "Pitch shifting the file for step , -4 ...\n",
      "Pitch shifting the file for step , -4 ...\n",
      "Pitch shifting the file for step , -4 ...\n",
      "Pitch shifting the file for step , -3 ...\n",
      "Pitch shifting the file for step , -3 ...\n",
      "Pitch shifting the file for step , -3 ...\n",
      "Pitch shifting the file for step , -2 ...\n",
      "Pitch shifting the file for step , -2 ...\n",
      "Pitch shifting the file for step , -2 ...\n",
      "Processing category  falcon ...\n",
      "Adding noise to the file...\n",
      "Adding noise to the file...\n",
      "Adding noise to the file...\n",
      "Adding noise to the file...\n",
      "Adding noise to the file...\n",
      "Adding noise to the file...\n",
      "Adding noise to the file...\n",
      "Adding noise to the file...\n",
      "Adding noise to the file...\n",
      "Adding noise to the file...\n",
      "Adding noise to the file...\n",
      "Shifting the file...\n",
      "Shifting the file...\n",
      "Processing category  frog ...\n",
      "Adding noise to the file...\n",
      "Adding noise to the file...\n",
      "Adding noise to the file...\n",
      "Adding noise to the file...\n",
      "Adding noise to the file...\n",
      "Adding noise to the file...\n",
      "Adding noise to the file...\n",
      "Adding noise to the file...\n",
      "Adding noise to the file...\n",
      "Adding noise to the file...\n",
      "Processing category  hippo ...\n",
      "Adding noise to the file...\n",
      "Adding noise to the file...\n",
      "Adding noise to the file...\n",
      "Adding noise to the file...\n",
      "Adding noise to the file...\n",
      "Adding noise to the file...\n",
      "Adding noise to the file...\n",
      "Adding noise to the file...\n",
      "Adding noise to the file...\n",
      "Adding noise to the file...\n",
      "Adding noise to the file...\n",
      "Processing category  lion ...\n",
      "Adding noise to the file...\n",
      "Adding noise to the file...\n",
      "Adding noise to the file...\n",
      "Adding noise to the file...\n",
      "Adding noise to the file...\n",
      "Adding noise to the file...\n",
      "Adding noise to the file...\n",
      "Adding noise to the file...\n",
      "Adding noise to the file...\n",
      "Adding noise to the file...\n",
      "Shifting the file...\n",
      "Shifting the file...\n",
      "Shifting the file...\n",
      "Shifting the file...\n",
      "Processing category  monkey ...\n",
      "Adding noise to the file...\n",
      "Adding noise to the file...\n",
      "Adding noise to the file...\n",
      "Adding noise to the file...\n",
      "Adding noise to the file...\n",
      "Adding noise to the file...\n",
      "Adding noise to the file...\n",
      "Shifting the file...\n",
      "Shifting the file...\n",
      "Shifting the file...\n",
      "Shifting the file...\n",
      "Shifting the file...\n",
      "Shifting the file...\n",
      "Shifting the file...\n",
      "Time stretching the file...\n",
      "Time stretching the file...\n",
      "Time stretching the file...\n",
      "Processing category  owl ...\n",
      "Adding noise to the file...\n",
      "Adding noise to the file...\n",
      "Adding noise to the file...\n",
      "Adding noise to the file...\n",
      "Adding noise to the file...\n",
      "Adding noise to the file...\n",
      "Adding noise to the file...\n",
      "Adding noise to the file...\n",
      "Adding noise to the file...\n",
      "Adding noise to the file...\n",
      "Adding noise to the file...\n",
      "Adding noise to the file...\n",
      "Processing category  panther ...\n",
      "Adding noise to the file...\n",
      "Adding noise to the file...\n",
      "Adding noise to the file...\n",
      "Adding noise to the file...\n",
      "Adding noise to the file...\n",
      "Adding noise to the file...\n",
      "Adding noise to the file...\n",
      "Adding noise to the file...\n",
      "Adding noise to the file...\n",
      "Adding noise to the file...\n",
      "Adding noise to the file...\n",
      "Processing category  Penguin ...\n",
      "Adding noise to the file...\n",
      "Adding noise to the file...\n",
      "Adding noise to the file...\n",
      "Adding noise to the file...\n",
      "Adding noise to the file...\n",
      "Adding noise to the file...\n",
      "Adding noise to the file...\n",
      "Shifting the file...\n",
      "Shifting the file...\n",
      "Shifting the file...\n",
      "Shifting the file...\n",
      "Shifting the file...\n",
      "Shifting the file...\n",
      "Shifting the file...\n",
      "Time stretching the file...\n",
      "Time stretching the file...\n",
      "Time stretching the file...\n",
      "Processing category  seal ...\n",
      "Adding noise to the file...\n",
      "Adding noise to the file...\n",
      "Adding noise to the file...\n",
      "Shifting the file...\n",
      "Shifting the file...\n",
      "Shifting the file...\n",
      "Time stretching the file...\n",
      "Time stretching the file...\n",
      "Time stretching the file...\n",
      "Pitch shifting the file for step , -5 ...\n",
      "Pitch shifting the file for step , -5 ...\n",
      "Pitch shifting the file for step , -5 ...\n",
      "Pitch shifting the file for step , -4 ...\n",
      "Pitch shifting the file for step , -4 ...\n",
      "Pitch shifting the file for step , -4 ...\n",
      "Pitch shifting the file for step , -3 ...\n",
      "Pitch shifting the file for step , -3 ...\n",
      "Pitch shifting the file for step , -3 ...\n",
      "Pitch shifting the file for step , -2 ...\n",
      "Pitch shifting the file for step , -2 ...\n",
      "Pitch shifting the file for step , -2 ...\n",
      "Processing category  snake ...\n",
      "Adding noise to the file...\n",
      "Adding noise to the file...\n",
      "Adding noise to the file...\n",
      "Adding noise to the file...\n",
      "Shifting the file...\n",
      "Shifting the file...\n",
      "Shifting the file...\n",
      "Shifting the file...\n",
      "Time stretching the file...\n",
      "Time stretching the file...\n",
      "Time stretching the file...\n",
      "Time stretching the file...\n",
      "Pitch shifting the file for step , -5 ...\n",
      "Pitch shifting the file for step , -5 ...\n",
      "Pitch shifting the file for step , -5 ...\n",
      "Pitch shifting the file for step , -5 ...\n",
      "Pitch shifting the file for step , -4 ...\n",
      "Pitch shifting the file for step , -4 ...\n",
      "Pitch shifting the file for step , -4 ...\n",
      "Pitch shifting the file for step , -4 ...\n",
      "Processing category  tiger ...\n",
      "Adding noise to the file...\n",
      "Adding noise to the file...\n",
      "Adding noise to the file...\n",
      "Adding noise to the file...\n",
      "Adding noise to the file...\n",
      "Adding noise to the file...\n",
      "Shifting the file...\n",
      "Shifting the file...\n",
      "Shifting the file...\n",
      "Shifting the file...\n",
      "Shifting the file...\n",
      "Shifting the file...\n",
      "Time stretching the file...\n",
      "Time stretching the file...\n",
      "Time stretching the file...\n",
      "Time stretching the file...\n",
      "Time stretching the file...\n",
      "Time stretching the file...\n",
      "Processing category  whale ...\n",
      "Adding noise to the file...\n",
      "Adding noise to the file...\n",
      "Adding noise to the file...\n",
      "Shifting the file...\n",
      "Shifting the file...\n",
      "Shifting the file...\n",
      "Time stretching the file...\n",
      "Time stretching the file...\n",
      "Time stretching the file...\n",
      "Pitch shifting the file for step , -5 ...\n",
      "Pitch shifting the file for step , -5 ...\n",
      "Pitch shifting the file for step , -5 ...\n",
      "Pitch shifting the file for step , -4 ...\n",
      "Pitch shifting the file for step , -4 ...\n",
      "Pitch shifting the file for step , -4 ...\n",
      "Pitch shifting the file for step , -3 ...\n",
      "Pitch shifting the file for step , -3 ...\n",
      "Pitch shifting the file for step , -3 ...\n",
      "Pitch shifting the file for step , -2 ...\n",
      "Pitch shifting the file for step , -2 ...\n",
      "Pitch shifting the file for step , -2 ...\n",
      "Processing category  wolf ...\n",
      "Adding noise to the file...\n",
      "Adding noise to the file...\n",
      "Adding noise to the file...\n",
      "Adding noise to the file...\n",
      "Adding noise to the file...\n",
      "Adding noise to the file...\n",
      "Adding noise to the file...\n",
      "Adding noise to the file...\n",
      "Adding noise to the file...\n",
      "Adding noise to the file...\n",
      "Adding noise to the file...\n",
      "Shifting the file...\n",
      "Shifting the file...\n"
     ]
    }
   ],
   "source": [
    "directory = '.\\dataset'\n",
    "\n",
    "all_snds_of_drctry_augm = False\n",
    "for filename in glob.iglob(f'{directory}/*'):\n",
    "    print(\"Processing category \", filename.split(\"\\\\\")[-1], \"...\")\n",
    "    orig_svd_flnms_of_cat = df_dataset[df_dataset[\"classID\"] == filename.split(\"\\\\\")[-1]]\n",
    "    cpt_sounds_p_cat = len([name for name in os.listdir(filename) if os.path.isfile(os.path.join(filename, name))])\n",
    "    orig_n_o_sds_p_cat = len([name for name in os.listdir(filename) if os.path.isfile(os.path.join(filename, name))])\n",
    "    index_df_augm_func = 0\n",
    "    if orig_svd_flnms_of_cat.shape[0] == 24:\n",
    "        continue\n",
    "    restart = True\n",
    "    cpt_nb_of_agm_snd_pr_ct = 0\n",
    "    cpt_al_sds_agm_all_fct_usd = 0\n",
    "    step = -5\n",
    "    while restart:\n",
    "        for index, row in orig_svd_flnms_of_cat.iterrows():\n",
    "            audio_name = row[\"relative_path\"]\n",
    "            aug_funct = df_augm_funct[\"funct\"][index_df_augm_func]\n",
    "            if (index_df_augm_func == 3):\n",
    "                aug_funct(audio_name, cpt_al_sds_agm_all_fct_usd, step)\n",
    "            else:\n",
    "                aug_funct(audio_name, cpt_al_sds_agm_all_fct_usd)\n",
    "            cpt_nb_of_agm_snd_pr_ct += 1\n",
    "            if cpt_nb_of_agm_snd_pr_ct == orig_n_o_sds_p_cat:\n",
    "                index_df_augm_func += 1\n",
    "                if (index_df_augm_func > 3):\n",
    "                    index_df_augm_func = 3\n",
    "                    step += 1\n",
    "                    cpt_al_sds_agm_all_fct_usd += 1\n",
    "                all_snds_of_drctry_augm = True\n",
    "                cpt_sounds_p_cat += 1\n",
    "                if (cpt_sounds_p_cat == 24):\n",
    "                    restart = False\n",
    "                    break\n",
    "                cpt_nb_of_agm_snd_pr_ct = 0\n",
    "                restart = True\n",
    "                break\n",
    "            else:\n",
    "                cpt_sounds_p_cat += 1\n",
    "                if cpt_sounds_p_cat == 24:\n",
    "                    restart = False\n",
    "                    break\n",
    "                else:\n",
    "                    continue\n",
    "                    restart = True\n",
    "                    break"
   ]
  },
  {
   "cell_type": "code",
   "execution_count": null,
   "metadata": {},
   "outputs": [],
   "source": []
  }
 ],
 "metadata": {
  "colab": {
   "authorship_tag": "ABX9TyMV2WJLAqVjIg7DPUzHdm+R",
   "collapsed_sections": [],
   "include_colab_link": true,
   "name": "Audio Data Augmentation Visualization - librosa intgration - PART 2.ipynb",
   "provenance": [],
   "toc_visible": true
  },
  "kernelspec": {
   "display_name": "Python 3 (ipykernel)",
   "language": "python",
   "name": "python3"
  },
  "language_info": {
   "codemirror_mode": {
    "name": "ipython",
    "version": 3
   },
   "file_extension": ".py",
   "mimetype": "text/x-python",
   "name": "python",
   "nbconvert_exporter": "python",
   "pygments_lexer": "ipython3",
   "version": "3.9.7"
  }
 },
 "nbformat": 4,
 "nbformat_minor": 1
}
